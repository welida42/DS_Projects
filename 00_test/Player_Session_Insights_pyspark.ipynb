{
 "cells": [
  {
   "cell_type": "markdown",
   "id": "6e5eba0b",
   "metadata": {},
   "source": [
    "ссылка на датасет: https://disk.yandex.com/d/xxOu37iPw59sPg\n",
    "\n",
    "Было интересно попрактиковаться в pyspark, т.к. до этого я огрничивался лишь чтением теоритического материала и выпонением упражнений в обучающем тренажере. Затратил на выпонение 2 часа. Сложностей особых не было, но анализировать, визуализировать удобнее в пандасе. "
   ]
  },
  {
   "cell_type": "code",
   "execution_count": 1,
   "id": "23b0ea0d",
   "metadata": {},
   "outputs": [],
   "source": [
    "from pyspark.sql import SparkSession\n",
    "from pyspark_dist_explore import hist\n",
    "import matplotlib.pyplot as plt"
   ]
  },
  {
   "cell_type": "markdown",
   "id": "9fde5898",
   "metadata": {},
   "source": [
    "### Изучение и предобработка данных"
   ]
  },
  {
   "cell_type": "code",
   "execution_count": 2,
   "id": "48718093",
   "metadata": {},
   "outputs": [
    {
     "name": "stderr",
     "output_type": "stream",
     "text": [
      "Setting default log level to \"WARN\".\n",
      "To adjust logging level use sc.setLogLevel(newLevel). For SparkR, use setLogLevel(newLevel).\n"
     ]
    },
    {
     "name": "stdout",
     "output_type": "stream",
     "text": [
      "22/08/02 13:05:35 WARN NativeCodeLoader: Unable to load native-hadoop library for your platform... using builtin-java classes where applicable\n",
      "+-------+-------+-------+--------------------+--------------------+-------------------+\n",
      "|summary|country|  event|           player_id|          session_id|                 ts|\n",
      "+-------+-------+-------+--------------------+--------------------+-------------------+\n",
      "|  count| 500584|1001169|             1001169|             1001169|            1001169|\n",
      "|   mean|   null|   null|                null|                null|               null|\n",
      "| stddev|   null|   null|                null|                null|               null|\n",
      "|    min|  (.uk)|    end|0001c73df0b1453f8...|00000934-5c74-4c1...|2016-10-20T23:40:38|\n",
      "|    25%|   null|   null|                null|                null|               null|\n",
      "|    50%|   null|   null|                null|                null|               null|\n",
      "|    75%|   null|   null|                null|                null|               null|\n",
      "|    max|     ZW|  start|fffa8453b36f4c038...|ffffb31f-de89-46a...|2016-12-02T16:34:40|\n",
      "+-------+-------+-------+--------------------+--------------------+-------------------+\n",
      "\n",
      "None\n"
     ]
    }
   ],
   "source": [
    "APP_NAME = \"DataFrames\"\n",
    "#SPARK_URL = \"local[*]\"\n",
    "\n",
    "spark = SparkSession.builder.appName(APP_NAME) \\\n",
    "        .config('spark.ui.showConsoleProgress', 'false') \\\n",
    "        .getOrCreate()\n",
    "\n",
    "df = spark.read.load('assignment_data.jsonl', \n",
    "                       format='json', header='true', inferSchema='true')\n",
    "\n",
    "\n",
    "print(df.summary().show()) "
   ]
  },
  {
   "cell_type": "code",
   "execution_count": 3,
   "id": "8098c759",
   "metadata": {},
   "outputs": [
    {
     "name": "stdout",
     "output_type": "stream",
     "text": [
      "+-------+-----+--------------------+--------------------+-------------------+\n",
      "|country|event|           player_id|          session_id|                 ts|\n",
      "+-------+-----+--------------------+--------------------+-------------------+\n",
      "|     PK|start|d6313e1fb7d247a6a...|674606b1-2270-428...|2016-11-22T20:40:50|\n",
      "|   null|  end|20ac16ebb30a47708...|16ca9d01-d240-452...|2016-11-18T06:24:50|\n",
      "|   null|  end|318e22b061b54042b...|5f933591-8cd5-414...|2016-11-16T18:01:37|\n",
      "|   null|  end|29bb390d9b1b4b4b9...|ef939180-692a-484...|2016-11-13T10:38:09|\n",
      "|     GH|start|a477ecabc3cc455cb...|4c55263e-66b2-481...|2016-11-29T19:31:43|\n",
      "|     SK|start|1ec36a67785046b3b...|3346a60a-0989-404...|2016-11-16T05:36:16|\n",
      "|     DE|start|9595af0063e94cb8a...|06830030-d091-428...|2016-11-07T01:18:09|\n",
      "|   null|  end|8d0e3cd4a25d4a089...|a78a4889-4bcf-45a...|2016-11-24T02:12:33|\n",
      "|   null|  end|e59f1fa31e144fd8b...|dd223ea6-0e6b-4dd...|2016-11-13T00:35:30|\n",
      "|   null|  end|fd8a1e9fff25471da...|3015bf71-4b28-4c9...|2016-11-21T01:18:57|\n",
      "+-------+-----+--------------------+--------------------+-------------------+\n",
      "only showing top 10 rows\n",
      "\n"
     ]
    }
   ],
   "source": [
    "df.show(10)"
   ]
  },
  {
   "cell_type": "code",
   "execution_count": 4,
   "id": "5a96d247",
   "metadata": {},
   "outputs": [
    {
     "name": "stderr",
     "output_type": "stream",
     "text": [
      "/Users/welida/PycharmProjects/pythonProject/venv/lib/python3.9/site-packages/pyspark/sql/dataframe.py:229: FutureWarning: Deprecated in 2.0, use createOrReplaceTempView instead.\n",
      "  warnings.warn(\"Deprecated in 2.0, use createOrReplaceTempView instead.\", FutureWarning)\n"
     ]
    }
   ],
   "source": [
    "df.registerTempTable(\"df\") "
   ]
  },
  {
   "cell_type": "code",
   "execution_count": 5,
   "id": "18636a45",
   "metadata": {},
   "outputs": [
    {
     "name": "stdout",
     "output_type": "stream",
     "text": [
      "+-------+-----+--------------------+--------------------+-------------------+\n",
      "|country|event|           player_id|          session_id|                 ts|\n",
      "+-------+-----+--------------------+--------------------+-------------------+\n",
      "|     PK|start|d6313e1fb7d247a6a...|674606b1-2270-428...|2016-11-22T20:40:50|\n",
      "|     GH|start|a477ecabc3cc455cb...|4c55263e-66b2-481...|2016-11-29T19:31:43|\n",
      "|     SK|start|1ec36a67785046b3b...|3346a60a-0989-404...|2016-11-16T05:36:16|\n",
      "|     DE|start|9595af0063e94cb8a...|06830030-d091-428...|2016-11-07T01:18:09|\n",
      "|     FM|start|5fd71e49d9dc4053b...|1d9e6d4a-e1c0-402...|2016-11-08T23:39:07|\n",
      "|     SC|start|4ac6fa82e7a84cad9...|b20c6b98-7f18-4ba...|2016-11-24T15:59:10|\n",
      "|     KG|start|a34a6188d03746eb8...|c522efe9-847a-47b...|2016-11-13T12:46:31|\n",
      "|     EE|start|85b7600411354ff3a...|58dd0153-026d-455...|2016-11-23T17:49:23|\n",
      "|     GS|start|03c648a9437d401b8...|cd0f2f42-3ab2-450...|2016-11-29T22:01:36|\n",
      "|     BN|start|d1aeb37eef7c40b49...|7d6e9f60-1baf-46e...|2016-11-21T09:13:29|\n",
      "|     NR|start|3b1bd8dd320647e29...|18681e89-6c74-478...|2016-11-14T03:26:29|\n",
      "|     GY|start|1b8c9ff2927f4b959...|5c4b5d45-7455-466...|2016-11-14T07:41:00|\n",
      "|     SV|start|afa287764f264351a...|eea8018a-5e3f-4df...|2016-11-15T20:38:07|\n",
      "|     IS|start|584b087454e042688...|9983eb04-5dad-4f2...|2016-11-26T06:11:36|\n",
      "|     NA|start|c6c5b57c84274d0c9...|18cf4df6-e2bf-464...|2016-11-08T20:33:23|\n",
      "|     UA|start|9b4f8903f38b413d8...|62fb7773-0bca-41d...|2016-11-28T17:45:34|\n",
      "|     GF|start|dc98d84a0fb2447c8...|f45f8d3c-1833-4a2...|2016-11-17T05:05:13|\n",
      "|     BE|start|39039247cf6c4178b...|274d8db0-db7c-455...|2016-11-04T19:24:50|\n",
      "|     MQ|start|3c3e48820c294c9d9...|6634da13-5e47-4ef...|2016-11-27T18:48:37|\n",
      "|     PF|start|bafd662b59fb40afa...|a2420886-8fcb-4ed...|2016-11-14T13:05:43|\n",
      "+-------+-----+--------------------+--------------------+-------------------+\n",
      "only showing top 20 rows\n",
      "\n"
     ]
    }
   ],
   "source": [
    "df[(df['event'] == 'start')].show()"
   ]
  },
  {
   "cell_type": "code",
   "execution_count": 6,
   "id": "914201cb",
   "metadata": {},
   "outputs": [
    {
     "name": "stdout",
     "output_type": "stream",
     "text": [
      "+-------+-----+--------------------+--------------------+-------------------+\n",
      "|country|event|           player_id|          session_id|                 ts|\n",
      "+-------+-----+--------------------+--------------------+-------------------+\n",
      "|     PK|start|d6313e1fb7d247a6a...|674606b1-2270-428...|2016-11-22T20:40:50|\n",
      "|     GH|start|a477ecabc3cc455cb...|4c55263e-66b2-481...|2016-11-29T19:31:43|\n",
      "|     SK|start|1ec36a67785046b3b...|3346a60a-0989-404...|2016-11-16T05:36:16|\n",
      "|     DE|start|9595af0063e94cb8a...|06830030-d091-428...|2016-11-07T01:18:09|\n",
      "|     FM|start|5fd71e49d9dc4053b...|1d9e6d4a-e1c0-402...|2016-11-08T23:39:07|\n",
      "|     SC|start|4ac6fa82e7a84cad9...|b20c6b98-7f18-4ba...|2016-11-24T15:59:10|\n",
      "|     KG|start|a34a6188d03746eb8...|c522efe9-847a-47b...|2016-11-13T12:46:31|\n",
      "|     EE|start|85b7600411354ff3a...|58dd0153-026d-455...|2016-11-23T17:49:23|\n",
      "|     GS|start|03c648a9437d401b8...|cd0f2f42-3ab2-450...|2016-11-29T22:01:36|\n",
      "|     BN|start|d1aeb37eef7c40b49...|7d6e9f60-1baf-46e...|2016-11-21T09:13:29|\n",
      "|     NR|start|3b1bd8dd320647e29...|18681e89-6c74-478...|2016-11-14T03:26:29|\n",
      "|     GY|start|1b8c9ff2927f4b959...|5c4b5d45-7455-466...|2016-11-14T07:41:00|\n",
      "|     SV|start|afa287764f264351a...|eea8018a-5e3f-4df...|2016-11-15T20:38:07|\n",
      "|     IS|start|584b087454e042688...|9983eb04-5dad-4f2...|2016-11-26T06:11:36|\n",
      "|     NA|start|c6c5b57c84274d0c9...|18cf4df6-e2bf-464...|2016-11-08T20:33:23|\n",
      "|     UA|start|9b4f8903f38b413d8...|62fb7773-0bca-41d...|2016-11-28T17:45:34|\n",
      "|     GF|start|dc98d84a0fb2447c8...|f45f8d3c-1833-4a2...|2016-11-17T05:05:13|\n",
      "|     BE|start|39039247cf6c4178b...|274d8db0-db7c-455...|2016-11-04T19:24:50|\n",
      "|     MQ|start|3c3e48820c294c9d9...|6634da13-5e47-4ef...|2016-11-27T18:48:37|\n",
      "|     PF|start|bafd662b59fb40afa...|a2420886-8fcb-4ed...|2016-11-14T13:05:43|\n",
      "+-------+-----+--------------------+--------------------+-------------------+\n",
      "only showing top 20 rows\n",
      "\n"
     ]
    }
   ],
   "source": [
    "spark.sql(\"SELECT * FROM df where event = 'start'\").show()"
   ]
  },
  {
   "cell_type": "markdown",
   "id": "a8a0d729",
   "metadata": {},
   "source": [
    "## Ответы"
   ]
  },
  {
   "cell_type": "markdown",
   "id": "f771a551",
   "metadata": {},
   "source": [
    "### 1) Сколько сеансов в наборе данных?"
   ]
  },
  {
   "cell_type": "markdown",
   "id": "e4ad4703",
   "metadata": {},
   "source": [
    "Кол-во завершенных сессий (стартовавших и завершившихся в рамках наблюдений датасета):"
   ]
  },
  {
   "cell_type": "code",
   "execution_count": 7,
   "id": "164829ed",
   "metadata": {},
   "outputs": [
    {
     "name": "stdout",
     "output_type": "stream",
     "text": [
      "500582\n",
      "CPU times: user 3.21 ms, sys: 1.45 ms, total: 4.66 ms\n",
      "Wall time: 2.54 s\n"
     ]
    }
   ],
   "source": [
    "%%time\n",
    "print(df[(df['event'] == 'start')].join(df[(df['event'] == 'end')], how=\"inner\", on=\"session_id\").count())"
   ]
  },
  {
   "cell_type": "code",
   "execution_count": 8,
   "id": "e7c6f561",
   "metadata": {},
   "outputs": [
    {
     "name": "stdout",
     "output_type": "stream",
     "text": [
      "500582\n",
      "CPU times: user 2.04 ms, sys: 1.04 ms, total: 3.08 ms\n",
      "Wall time: 1.53 s\n"
     ]
    }
   ],
   "source": [
    "%%time\n",
    "print(spark.sql(\"\"\"\n",
    "                WITH \n",
    "                s AS (SELECT * FROM df WHERE event = 'start'),\n",
    "                e AS(SELECT * FROM df WHERE event = 'end')\n",
    "                SELECT * FROM \n",
    "                s INNER JOIN e ON s.session_id = e.session_id\"\"\").count())"
   ]
  },
  {
   "cell_type": "markdown",
   "id": "491ae884",
   "metadata": {},
   "source": [
    "### 2) Сколько сеансов завершается в каждой стране? Выведите 10 лучших результатов, отсортированных по количеству (DESC) и стране (ASC)."
   ]
  },
  {
   "cell_type": "markdown",
   "id": "646d1209",
   "metadata": {},
   "source": [
    "Учитывая, что значения country пропущены вовсех event==end, будем считать, что страна в которой сессия началась, там же заканчивается.\n",
    "В другом файле, в котором я выполнял задания в пандасе, я запонял пропущенные значения. Здесь же сразу использовал event = 'start', т.к. на топ 10 это никак не влияет."
   ]
  },
  {
   "cell_type": "code",
   "execution_count": 9,
   "id": "22299388",
   "metadata": {},
   "outputs": [
    {
     "name": "stdout",
     "output_type": "stream",
     "text": [
      "+-------+-----------------+\n",
      "|country|count(session_id)|\n",
      "+-------+-----------------+\n",
      "|     IT|             2839|\n",
      "|     SH|             2672|\n",
      "|     AZ|             2670|\n",
      "|     AT|             2655|\n",
      "|     WF|             2616|\n",
      "|     VA|             2602|\n",
      "|     HU|             2584|\n",
      "|     IL|             2563|\n",
      "|     RO|             2550|\n",
      "|     KR|             2535|\n",
      "+-------+-----------------+\n",
      "\n"
     ]
    }
   ],
   "source": [
    "spark.sql(\"\"\"SELECT country, count(session_id) \n",
    "                    FROM df WHERE event = 'start' \n",
    "                    GROUP BY country \n",
    "                    ORDER BY count(session_id) DESC, country ASC\n",
    "                    LIMIT 10\"\"\") .show()"
   ]
  },
  {
   "cell_type": "markdown",
   "id": "dc823c5e",
   "metadata": {},
   "source": [
    "### 3) Сколько сессий завершает каждый игрок? Выведите 10 лучших результатов, отсортированных по count(DESC) и player_id(ASC)."
   ]
  },
  {
   "cell_type": "code",
   "execution_count": 10,
   "id": "2eb374b9",
   "metadata": {},
   "outputs": [
    {
     "name": "stdout",
     "output_type": "stream",
     "text": [
      "+--------------------+-----------------+\n",
      "|           player_id|count(session_id)|\n",
      "+--------------------+-----------------+\n",
      "|0052e4cfaf494af29...|               50|\n",
      "|008c31d6d87d4a72a...|               50|\n",
      "|019f6864a44e4cd1a...|               50|\n",
      "|01d1f31c3c864538a...|               50|\n",
      "|0259292bb77e4aaba...|               50|\n",
      "|04318f09e6e7434bb...|               50|\n",
      "|060243602575481db...|               50|\n",
      "|067b20022f2040b0a...|               50|\n",
      "|072d69b0074349689...|               50|\n",
      "|08037331842341b2b...|               50|\n",
      "+--------------------+-----------------+\n",
      "\n"
     ]
    }
   ],
   "source": [
    "spark.sql(\"\"\"SELECT player_id, count(session_id) \n",
    "                    FROM df WHERE event = 'end' \n",
    "                    GROUP BY player_id \n",
    "                    ORDER BY count(session_id) DESC, player_id ASC\n",
    "                    LIMIT 10\"\"\") .show()"
   ]
  },
  {
   "cell_type": "markdown",
   "id": "07806246",
   "metadata": {},
   "source": [
    "### 4) В какой стране в 2016 году было начато наибольшее количество сеансов?"
   ]
  },
  {
   "cell_type": "code",
   "execution_count": 11,
   "id": "ed1118aa",
   "metadata": {},
   "outputs": [
    {
     "name": "stdout",
     "output_type": "stream",
     "text": [
      "+-------+-----------------+\n",
      "|country|count(session_id)|\n",
      "+-------+-----------------+\n",
      "|     IT|             2839|\n",
      "+-------+-----------------+\n",
      "\n"
     ]
    }
   ],
   "source": [
    "spark.sql(\"\"\"SELECT country, count(session_id) \n",
    "                    FROM df \n",
    "                    WHERE event = 'start' and extract(year from cast(ts as timestamp)) = 2016 \n",
    "                    GROUP BY country \n",
    "                    ORDER BY count(session_id) DESC\n",
    "                    LIMIT 1\"\"\") .show()"
   ]
  },
  {
   "cell_type": "markdown",
   "id": "6779782e",
   "metadata": {},
   "source": [
    "### 5) График завершенных сеансов  по странам. Гистограмма 10 лучших результатов, отсортированных по количеству (DESC) и стране (ASC)."
   ]
  },
  {
   "cell_type": "code",
   "execution_count": 12,
   "id": "1d966d7d",
   "metadata": {},
   "outputs": [
    {
     "data": {
      "text/plain": [
       "(array([3., 1., 2., 1., 2., 0., 0., 0., 0., 1.]),\n",
       " array([2535. , 2565.4, 2595.8, 2626.2, 2656.6, 2687. , 2717.4, 2747.8,\n",
       "        2778.2, 2808.6, 2839. ]),\n",
       " <BarContainer object of 10 artists>)"
      ]
     },
     "execution_count": 12,
     "metadata": {},
     "output_type": "execute_result"
    },
    {
     "data": {
      "image/png": "[encoded data removed]",
      "text/plain": [
       "<Figure size 432x288 with 1 Axes>"
      ]
     },
     "metadata": {
      "needs_background": "light"
     },
     "output_type": "display_data"
    }
   ],
   "source": [
    "fig, ax = plt.subplots()\n",
    "hist(ax, spark.sql(\"\"\"SELECT country, count(session_id) \n",
    "                    FROM df WHERE event = 'start' \n",
    "                    GROUP BY country \n",
    "                    ORDER BY count(session_id) DESC, country ASC\n",
    "                    LIMIT 10\"\"\").select('count(session_id)' ))"
   ]
  }
 ],
 "metadata": {
  "kernelspec": {
   "display_name": "Python 3 (ipykernel)",
   "language": "python",
   "name": "python3"
  },
  "language_info": {
   "codemirror_mode": {
    "name": "ipython",
    "version": 3
   },
   "file_extension": ".py",
   "mimetype": "text/x-python",
   "name": "python",
   "nbconvert_exporter": "python",
   "pygments_lexer": "ipython3",
   "version": "3.9.10"
  }
 },
 "nbformat": 4,
 "nbformat_minor": 5
}
