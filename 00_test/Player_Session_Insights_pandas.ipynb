{
 "cells": [
  {
   "cell_type": "markdown",
   "id": "746852f7",
   "metadata": {},
   "source": [
    "ссылка на датасет: https://disk.yandex.com/d/xxOu37iPw59sPg\n",
    "\n",
    "Задания в целом были несложные, но было интересно вспомнить некоторые инструменты пандас, т.к. в последнее время уделял больше времение на изучение ml алгоритмов. Затратил на их выпонение около 2 часов. Но некоторые сложности возникли при выполнении 2 задания, где я пытался заполнить пропущенные значения через fillna в один заход, что никак не получалось (на чем застрял на час). Использовав другой подход, удалось сразу решить задачу."
   ]
  },
  {
   "cell_type": "code",
   "execution_count": 1,
   "id": "23b0ea0d",
   "metadata": {},
   "outputs": [],
   "source": [
    "import pandas as pd"
   ]
  },
  {
   "cell_type": "markdown",
   "id": "9fde5898",
   "metadata": {},
   "source": [
    "### Изучение и предобработка данных"
   ]
  },
  {
   "cell_type": "code",
   "execution_count": 2,
   "id": "5d920da1",
   "metadata": {},
   "outputs": [
    {
     "name": "stdout",
     "output_type": "stream",
     "text": [
      "<class 'pandas.core.frame.DataFrame'>\n",
      "RangeIndex: 1001169 entries, 0 to 1001168\n",
      "Data columns (total 5 columns):\n",
      " #   Column      Non-Null Count    Dtype \n",
      "---  ------      --------------    ----- \n",
      " 0   player_id   1001169 non-null  object\n",
      " 1   country     500584 non-null   object\n",
      " 2   event       1001169 non-null  object\n",
      " 3   session_id  1001169 non-null  object\n",
      " 4   ts          1001169 non-null  object\n",
      "dtypes: object(5)\n",
      "memory usage: 38.2+ MB\n"
     ]
    }
   ],
   "source": [
    "df = pd.read_json(\"assignment_data.jsonl\",  lines=True)\n",
    "df"
   ]
  },
  {
   "cell_type": "code",
   "execution_count": 3,
   "id": "506c1828",
   "metadata": {},
   "outputs": [
    {
     "data": {
      "text/html": [
       "<div>\n",
       "<style scoped>\n",
       "    .dataframe tbody tr th:only-of-type {\n",
       "        vertical-align: middle;\n",
       "    }\n",
       "\n",
       "    .dataframe tbody tr th {\n",
       "        vertical-align: top;\n",
       "    }\n",
       "\n",
       "    .dataframe thead th {\n",
       "        text-align: right;\n",
       "    }\n",
       "</style>\n",
       "<table border=\"1\" class=\"dataframe\">\n",
       "  <thead>\n",
       "    <tr style=\"text-align: right;\">\n",
       "      <th></th>\n",
       "      <th>player_id</th>\n",
       "      <th>country</th>\n",
       "      <th>event</th>\n",
       "      <th>session_id</th>\n",
       "      <th>ts</th>\n",
       "    </tr>\n",
       "  </thead>\n",
       "  <tbody>\n",
       "    <tr>\n",
       "      <th>0</th>\n",
       "      <td>d6313e1fb7d247a6a034e2aadc30ab3f</td>\n",
       "      <td>PK</td>\n",
       "      <td>start</td>\n",
       "      <td>674606b1-2270-4285-928f-eef4a6b90a60</td>\n",
       "      <td>2016-11-22 20:40:50</td>\n",
       "    </tr>\n",
       "    <tr>\n",
       "      <th>1</th>\n",
       "      <td>20ac16ebb30a477087c3c7501b1fce73</td>\n",
       "      <td>NaN</td>\n",
       "      <td>end</td>\n",
       "      <td>16ca9d01-d240-4527-9f8f-00ef6cddb1d4</td>\n",
       "      <td>2016-11-18 06:24:50</td>\n",
       "    </tr>\n",
       "    <tr>\n",
       "      <th>2</th>\n",
       "      <td>318e22b061b54042b880c365c28982d0</td>\n",
       "      <td>NaN</td>\n",
       "      <td>end</td>\n",
       "      <td>5f933591-8cd5-4147-8736-d6237bef5891</td>\n",
       "      <td>2016-11-16 18:01:37</td>\n",
       "    </tr>\n",
       "    <tr>\n",
       "      <th>3</th>\n",
       "      <td>29bb390d9b1b4b4b9ec0d6243da34ec4</td>\n",
       "      <td>NaN</td>\n",
       "      <td>end</td>\n",
       "      <td>ef939180-692a-4845-aef7-afb03524c2da</td>\n",
       "      <td>2016-11-13 10:38:09</td>\n",
       "    </tr>\n",
       "    <tr>\n",
       "      <th>4</th>\n",
       "      <td>a477ecabc3cc455cb1c6d1dab77d8e5c</td>\n",
       "      <td>GH</td>\n",
       "      <td>start</td>\n",
       "      <td>4c55263e-66b2-4814-b431-8ca4c1a9dcc8</td>\n",
       "      <td>2016-11-29 19:31:43</td>\n",
       "    </tr>\n",
       "    <tr>\n",
       "      <th>...</th>\n",
       "      <td>...</td>\n",
       "      <td>...</td>\n",
       "      <td>...</td>\n",
       "      <td>...</td>\n",
       "      <td>...</td>\n",
       "    </tr>\n",
       "    <tr>\n",
       "      <th>1001164</th>\n",
       "      <td>7569b1ec9a934730bfe0891d88c47041</td>\n",
       "      <td>RW</td>\n",
       "      <td>start</td>\n",
       "      <td>a702cf5c-d837-4017-9b63-2ee836faa76d</td>\n",
       "      <td>2016-11-15 18:48:02</td>\n",
       "    </tr>\n",
       "    <tr>\n",
       "      <th>1001165</th>\n",
       "      <td>465335083a1a469591d3c2c15b27ae3b</td>\n",
       "      <td>KP</td>\n",
       "      <td>start</td>\n",
       "      <td>1b0b5721-a0a0-4fb2-bc7e-a2543db3bd1b</td>\n",
       "      <td>2016-11-20 00:20:57</td>\n",
       "    </tr>\n",
       "    <tr>\n",
       "      <th>1001166</th>\n",
       "      <td>95c1d0b75e17416cafcb4400c2c36eb9</td>\n",
       "      <td>BW</td>\n",
       "      <td>start</td>\n",
       "      <td>2ab87ad3-4542-4a8e-b9b9-40c609ffdad5</td>\n",
       "      <td>2016-11-06 05:38:29</td>\n",
       "    </tr>\n",
       "    <tr>\n",
       "      <th>1001167</th>\n",
       "      <td>2982df54c01f41a0b1c6f2915eb12d5a</td>\n",
       "      <td>TG</td>\n",
       "      <td>start</td>\n",
       "      <td>70620aea-1bff-4924-9d3a-06cfefb3ac1b</td>\n",
       "      <td>2016-11-16 23:20:36</td>\n",
       "    </tr>\n",
       "    <tr>\n",
       "      <th>1001168</th>\n",
       "      <td>a34f4ddb91b347c18dc7221e1884c0fa</td>\n",
       "      <td>GI</td>\n",
       "      <td>start</td>\n",
       "      <td>ef2e7503-a122-470a-b320-c939ebc3825a</td>\n",
       "      <td>2016-11-19 04:49:19</td>\n",
       "    </tr>\n",
       "  </tbody>\n",
       "</table>\n",
       "<p>1001169 rows × 5 columns</p>\n",
       "</div>"
      ],
      "text/plain": [
       "                                player_id country  event  \\\n",
       "0        d6313e1fb7d247a6a034e2aadc30ab3f      PK  start   \n",
       "1        20ac16ebb30a477087c3c7501b1fce73     NaN    end   \n",
       "2        318e22b061b54042b880c365c28982d0     NaN    end   \n",
       "3        29bb390d9b1b4b4b9ec0d6243da34ec4     NaN    end   \n",
       "4        a477ecabc3cc455cb1c6d1dab77d8e5c      GH  start   \n",
       "...                                   ...     ...    ...   \n",
       "1001164  7569b1ec9a934730bfe0891d88c47041      RW  start   \n",
       "1001165  465335083a1a469591d3c2c15b27ae3b      KP  start   \n",
       "1001166  95c1d0b75e17416cafcb4400c2c36eb9      BW  start   \n",
       "1001167  2982df54c01f41a0b1c6f2915eb12d5a      TG  start   \n",
       "1001168  a34f4ddb91b347c18dc7221e1884c0fa      GI  start   \n",
       "\n",
       "                                   session_id                  ts  \n",
       "0        674606b1-2270-4285-928f-eef4a6b90a60 2016-11-22 20:40:50  \n",
       "1        16ca9d01-d240-4527-9f8f-00ef6cddb1d4 2016-11-18 06:24:50  \n",
       "2        5f933591-8cd5-4147-8736-d6237bef5891 2016-11-16 18:01:37  \n",
       "3        ef939180-692a-4845-aef7-afb03524c2da 2016-11-13 10:38:09  \n",
       "4        4c55263e-66b2-4814-b431-8ca4c1a9dcc8 2016-11-29 19:31:43  \n",
       "...                                       ...                 ...  \n",
       "1001164  a702cf5c-d837-4017-9b63-2ee836faa76d 2016-11-15 18:48:02  \n",
       "1001165  1b0b5721-a0a0-4fb2-bc7e-a2543db3bd1b 2016-11-20 00:20:57  \n",
       "1001166  2ab87ad3-4542-4a8e-b9b9-40c609ffdad5 2016-11-06 05:38:29  \n",
       "1001167  70620aea-1bff-4924-9d3a-06cfefb3ac1b 2016-11-16 23:20:36  \n",
       "1001168  ef2e7503-a122-470a-b320-c939ebc3825a 2016-11-19 04:49:19  \n",
       "\n",
       "[1001169 rows x 5 columns]"
      ]
     },
     "execution_count": 3,
     "metadata": {},
     "output_type": "execute_result"
    }
   ],
   "source": [
    "df['ts'] = pd.to_datetime(df['ts'])\n",
    "df"
   ]
  },
  {
   "cell_type": "code",
   "execution_count": 4,
   "id": "dd0c1850",
   "metadata": {},
   "outputs": [
    {
     "name": "stdout",
     "output_type": "stream",
     "text": [
      "<class 'pandas.core.frame.DataFrame'>\n",
      "RangeIndex: 1001169 entries, 0 to 1001168\n",
      "Data columns (total 5 columns):\n",
      " #   Column      Non-Null Count    Dtype         \n",
      "---  ------      --------------    -----         \n",
      " 0   player_id   1001169 non-null  object        \n",
      " 1   country     500584 non-null   object        \n",
      " 2   event       1001169 non-null  object        \n",
      " 3   session_id  1001169 non-null  object        \n",
      " 4   ts          1001169 non-null  datetime64[ns]\n",
      "dtypes: datetime64[ns](1), object(4)\n",
      "memory usage: 38.2+ MB\n"
     ]
    }
   ],
   "source": [
    "df.info()"
   ]
  },
  {
   "cell_type": "markdown",
   "id": "7947acf7",
   "metadata": {},
   "source": [
    "Есть пропуски в country"
   ]
  },
  {
   "cell_type": "code",
   "execution_count": 5,
   "id": "5622564d",
   "metadata": {},
   "outputs": [
    {
     "data": {
      "text/plain": [
       "IT    2839\n",
       "SH    2672\n",
       "AZ    2670\n",
       "AT    2655\n",
       "WF    2616\n",
       "      ... \n",
       "LI    1491\n",
       "IQ    1485\n",
       "VN    1409\n",
       "GB    1359\n",
       "JE    1317\n",
       "Name: country, Length: 246, dtype: int64"
      ]
     },
     "execution_count": 5,
     "metadata": {},
     "output_type": "execute_result"
    }
   ],
   "source": [
    "df['country'].value_counts()"
   ]
  },
  {
   "cell_type": "code",
   "execution_count": 6,
   "id": "9ca72a1a",
   "metadata": {},
   "outputs": [
    {
     "data": {
      "text/plain": [
       "end      500585\n",
       "start    500584\n",
       "Name: event, dtype: int64"
      ]
     },
     "execution_count": 6,
     "metadata": {},
     "output_type": "execute_result"
    }
   ],
   "source": [
    "df['event'].value_counts()"
   ]
  },
  {
   "cell_type": "code",
   "execution_count": 7,
   "id": "57baeaa2",
   "metadata": {},
   "outputs": [
    {
     "data": {
      "text/html": [
       "<div>\n",
       "<style scoped>\n",
       "    .dataframe tbody tr th:only-of-type {\n",
       "        vertical-align: middle;\n",
       "    }\n",
       "\n",
       "    .dataframe tbody tr th {\n",
       "        vertical-align: top;\n",
       "    }\n",
       "\n",
       "    .dataframe thead th {\n",
       "        text-align: right;\n",
       "    }\n",
       "</style>\n",
       "<table border=\"1\" class=\"dataframe\">\n",
       "  <thead>\n",
       "    <tr style=\"text-align: right;\">\n",
       "      <th></th>\n",
       "      <th>player_id</th>\n",
       "      <th>country</th>\n",
       "      <th>event</th>\n",
       "      <th>session_id</th>\n",
       "      <th>ts</th>\n",
       "    </tr>\n",
       "  </thead>\n",
       "  <tbody>\n",
       "    <tr>\n",
       "      <th>1</th>\n",
       "      <td>20ac16ebb30a477087c3c7501b1fce73</td>\n",
       "      <td>NaN</td>\n",
       "      <td>end</td>\n",
       "      <td>16ca9d01-d240-4527-9f8f-00ef6cddb1d4</td>\n",
       "      <td>2016-11-18 06:24:50</td>\n",
       "    </tr>\n",
       "    <tr>\n",
       "      <th>2</th>\n",
       "      <td>318e22b061b54042b880c365c28982d0</td>\n",
       "      <td>NaN</td>\n",
       "      <td>end</td>\n",
       "      <td>5f933591-8cd5-4147-8736-d6237bef5891</td>\n",
       "      <td>2016-11-16 18:01:37</td>\n",
       "    </tr>\n",
       "    <tr>\n",
       "      <th>3</th>\n",
       "      <td>29bb390d9b1b4b4b9ec0d6243da34ec4</td>\n",
       "      <td>NaN</td>\n",
       "      <td>end</td>\n",
       "      <td>ef939180-692a-4845-aef7-afb03524c2da</td>\n",
       "      <td>2016-11-13 10:38:09</td>\n",
       "    </tr>\n",
       "    <tr>\n",
       "      <th>7</th>\n",
       "      <td>8d0e3cd4a25d4a0895a6c2e13b5bb26a</td>\n",
       "      <td>NaN</td>\n",
       "      <td>end</td>\n",
       "      <td>a78a4889-4bcf-45a7-a4bd-967cc7adf581</td>\n",
       "      <td>2016-11-24 02:12:33</td>\n",
       "    </tr>\n",
       "    <tr>\n",
       "      <th>8</th>\n",
       "      <td>e59f1fa31e144fd8b3634f397492126a</td>\n",
       "      <td>NaN</td>\n",
       "      <td>end</td>\n",
       "      <td>dd223ea6-0e6b-4dd2-bc1d-b2decd43aabf</td>\n",
       "      <td>2016-11-13 00:35:30</td>\n",
       "    </tr>\n",
       "    <tr>\n",
       "      <th>...</th>\n",
       "      <td>...</td>\n",
       "      <td>...</td>\n",
       "      <td>...</td>\n",
       "      <td>...</td>\n",
       "      <td>...</td>\n",
       "    </tr>\n",
       "    <tr>\n",
       "      <th>1001155</th>\n",
       "      <td>73e213e97a1646708c11af6a7d3f9900</td>\n",
       "      <td>NaN</td>\n",
       "      <td>end</td>\n",
       "      <td>09238f1d-733a-45b7-bb23-9d9a01dd3e12</td>\n",
       "      <td>2016-11-29 17:58:10</td>\n",
       "    </tr>\n",
       "    <tr>\n",
       "      <th>1001156</th>\n",
       "      <td>9a838e6fa40746b1aaf6a04d28b9a22c</td>\n",
       "      <td>NaN</td>\n",
       "      <td>end</td>\n",
       "      <td>457dbef9-d96e-4b0b-8471-7e6d9d9e546d</td>\n",
       "      <td>2016-11-02 19:31:18</td>\n",
       "    </tr>\n",
       "    <tr>\n",
       "      <th>1001158</th>\n",
       "      <td>58c9ce454f8e4d3c85017fbf17c373a7</td>\n",
       "      <td>NaN</td>\n",
       "      <td>end</td>\n",
       "      <td>ee22c236-0e31-49c2-8e7d-4cd7887c4219</td>\n",
       "      <td>2016-11-22 00:28:53</td>\n",
       "    </tr>\n",
       "    <tr>\n",
       "      <th>1001160</th>\n",
       "      <td>15b363b50d0b426bb72c2187904f46fc</td>\n",
       "      <td>NaN</td>\n",
       "      <td>end</td>\n",
       "      <td>a5e4e97c-0b59-4808-b551-f5a035fef604</td>\n",
       "      <td>2016-11-28 04:18:25</td>\n",
       "    </tr>\n",
       "    <tr>\n",
       "      <th>1001163</th>\n",
       "      <td>8f3b6c9076674636a1ef43b285ade8b2</td>\n",
       "      <td>NaN</td>\n",
       "      <td>end</td>\n",
       "      <td>1b984c61-e3a1-42ee-8a6d-16009882e303</td>\n",
       "      <td>2016-11-16 17:32:22</td>\n",
       "    </tr>\n",
       "  </tbody>\n",
       "</table>\n",
       "<p>500585 rows × 5 columns</p>\n",
       "</div>"
      ],
      "text/plain": [
       "                                player_id country event  \\\n",
       "1        20ac16ebb30a477087c3c7501b1fce73     NaN   end   \n",
       "2        318e22b061b54042b880c365c28982d0     NaN   end   \n",
       "3        29bb390d9b1b4b4b9ec0d6243da34ec4     NaN   end   \n",
       "7        8d0e3cd4a25d4a0895a6c2e13b5bb26a     NaN   end   \n",
       "8        e59f1fa31e144fd8b3634f397492126a     NaN   end   \n",
       "...                                   ...     ...   ...   \n",
       "1001155  73e213e97a1646708c11af6a7d3f9900     NaN   end   \n",
       "1001156  9a838e6fa40746b1aaf6a04d28b9a22c     NaN   end   \n",
       "1001158  58c9ce454f8e4d3c85017fbf17c373a7     NaN   end   \n",
       "1001160  15b363b50d0b426bb72c2187904f46fc     NaN   end   \n",
       "1001163  8f3b6c9076674636a1ef43b285ade8b2     NaN   end   \n",
       "\n",
       "                                   session_id                  ts  \n",
       "1        16ca9d01-d240-4527-9f8f-00ef6cddb1d4 2016-11-18 06:24:50  \n",
       "2        5f933591-8cd5-4147-8736-d6237bef5891 2016-11-16 18:01:37  \n",
       "3        ef939180-692a-4845-aef7-afb03524c2da 2016-11-13 10:38:09  \n",
       "7        a78a4889-4bcf-45a7-a4bd-967cc7adf581 2016-11-24 02:12:33  \n",
       "8        dd223ea6-0e6b-4dd2-bc1d-b2decd43aabf 2016-11-13 00:35:30  \n",
       "...                                       ...                 ...  \n",
       "1001155  09238f1d-733a-45b7-bb23-9d9a01dd3e12 2016-11-29 17:58:10  \n",
       "1001156  457dbef9-d96e-4b0b-8471-7e6d9d9e546d 2016-11-02 19:31:18  \n",
       "1001158  ee22c236-0e31-49c2-8e7d-4cd7887c4219 2016-11-22 00:28:53  \n",
       "1001160  a5e4e97c-0b59-4808-b551-f5a035fef604 2016-11-28 04:18:25  \n",
       "1001163  1b984c61-e3a1-42ee-8a6d-16009882e303 2016-11-16 17:32:22  \n",
       "\n",
       "[500585 rows x 5 columns]"
      ]
     },
     "execution_count": 7,
     "metadata": {},
     "output_type": "execute_result"
    }
   ],
   "source": [
    "df[(df['country'].isna()) & (df['event']=='end')]"
   ]
  },
  {
   "cell_type": "code",
   "execution_count": 8,
   "id": "7d77af31",
   "metadata": {},
   "outputs": [
    {
     "data": {
      "text/plain": [
       "end    500585\n",
       "Name: event, dtype: int64"
      ]
     },
     "execution_count": 8,
     "metadata": {},
     "output_type": "execute_result"
    }
   ],
   "source": [
    "df[df['country'].isna()]['event'].value_counts()"
   ]
  },
  {
   "cell_type": "markdown",
   "id": "b8a6fa86",
   "metadata": {},
   "source": [
    "Пропуски в country соответсвуют всем event==end. В рамках ответа на вопрос №2 заполним их по стране начала сессии."
   ]
  },
  {
   "cell_type": "code",
   "execution_count": 9,
   "id": "83f48f18",
   "metadata": {},
   "outputs": [
    {
     "data": {
      "text/plain": [
       "0"
      ]
     },
     "execution_count": 9,
     "metadata": {},
     "output_type": "execute_result"
    }
   ],
   "source": [
    "sum(df.duplicated())"
   ]
  },
  {
   "cell_type": "code",
   "execution_count": 10,
   "id": "5a91e0a9",
   "metadata": {},
   "outputs": [
    {
     "data": {
      "text/plain": [
       "19615"
      ]
     },
     "execution_count": 10,
     "metadata": {},
     "output_type": "execute_result"
    }
   ],
   "source": [
    "len(df['player_id'].unique())"
   ]
  },
  {
   "cell_type": "code",
   "execution_count": 11,
   "id": "57b01884",
   "metadata": {},
   "outputs": [
    {
     "data": {
      "text/plain": [
       "500587"
      ]
     },
     "execution_count": 11,
     "metadata": {},
     "output_type": "execute_result"
    }
   ],
   "source": [
    "len(df['session_id'].unique())"
   ]
  },
  {
   "cell_type": "markdown",
   "id": "a8a0d729",
   "metadata": {},
   "source": [
    "## Ответы"
   ]
  },
  {
   "cell_type": "markdown",
   "id": "f771a551",
   "metadata": {},
   "source": [
    "### 1) Сколько сеансов в наборе данных?"
   ]
  },
  {
   "cell_type": "markdown",
   "id": "26465301",
   "metadata": {},
   "source": [
    "Кол-во завершенных сессий (стартовавших и завершившихся в рамках наблюдений датасета):"
   ]
  },
  {
   "cell_type": "markdown",
   "id": "d94a44f4",
   "metadata": {},
   "source": [
    "**вариант 1:**"
   ]
  },
  {
   "cell_type": "code",
   "execution_count": 12,
   "id": "c7ee2689",
   "metadata": {},
   "outputs": [
    {
     "data": {
      "text/html": [
       "<div>\n",
       "<style scoped>\n",
       "    .dataframe tbody tr th:only-of-type {\n",
       "        vertical-align: middle;\n",
       "    }\n",
       "\n",
       "    .dataframe tbody tr th {\n",
       "        vertical-align: top;\n",
       "    }\n",
       "\n",
       "    .dataframe thead th {\n",
       "        text-align: right;\n",
       "    }\n",
       "</style>\n",
       "<table border=\"1\" class=\"dataframe\">\n",
       "  <thead>\n",
       "    <tr style=\"text-align: right;\">\n",
       "      <th></th>\n",
       "      <th>player_id_x</th>\n",
       "      <th>country_x</th>\n",
       "      <th>event_x</th>\n",
       "      <th>session_id</th>\n",
       "      <th>ts_x</th>\n",
       "      <th>player_id_y</th>\n",
       "      <th>country_y</th>\n",
       "      <th>event_y</th>\n",
       "      <th>ts_y</th>\n",
       "    </tr>\n",
       "  </thead>\n",
       "  <tbody>\n",
       "    <tr>\n",
       "      <th>0</th>\n",
       "      <td>d6313e1fb7d247a6a034e2aadc30ab3f</td>\n",
       "      <td>PK</td>\n",
       "      <td>start</td>\n",
       "      <td>674606b1-2270-4285-928f-eef4a6b90a60</td>\n",
       "      <td>2016-11-22 20:40:50</td>\n",
       "      <td>d6313e1fb7d247a6a034e2aadc30ab3f</td>\n",
       "      <td>NaN</td>\n",
       "      <td>end</td>\n",
       "      <td>2016-11-22 22:29:39</td>\n",
       "    </tr>\n",
       "    <tr>\n",
       "      <th>1</th>\n",
       "      <td>a477ecabc3cc455cb1c6d1dab77d8e5c</td>\n",
       "      <td>GH</td>\n",
       "      <td>start</td>\n",
       "      <td>4c55263e-66b2-4814-b431-8ca4c1a9dcc8</td>\n",
       "      <td>2016-11-29 19:31:43</td>\n",
       "      <td>a477ecabc3cc455cb1c6d1dab77d8e5c</td>\n",
       "      <td>NaN</td>\n",
       "      <td>end</td>\n",
       "      <td>2016-11-29 21:07:06</td>\n",
       "    </tr>\n",
       "    <tr>\n",
       "      <th>2</th>\n",
       "      <td>1ec36a67785046b3bce1dc432fad9129</td>\n",
       "      <td>SK</td>\n",
       "      <td>start</td>\n",
       "      <td>3346a60a-0989-4041-aacc-cf6ff44bd151</td>\n",
       "      <td>2016-11-16 05:36:16</td>\n",
       "      <td>1ec36a67785046b3bce1dc432fad9129</td>\n",
       "      <td>NaN</td>\n",
       "      <td>end</td>\n",
       "      <td>2016-11-16 06:38:36</td>\n",
       "    </tr>\n",
       "    <tr>\n",
       "      <th>3</th>\n",
       "      <td>9595af0063e94cb8a76cb6628c6b80eb</td>\n",
       "      <td>DE</td>\n",
       "      <td>start</td>\n",
       "      <td>06830030-d091-428b-87d6-53914d3d2a18</td>\n",
       "      <td>2016-11-07 01:18:09</td>\n",
       "      <td>9595af0063e94cb8a76cb6628c6b80eb</td>\n",
       "      <td>NaN</td>\n",
       "      <td>end</td>\n",
       "      <td>2016-11-07 02:14:23</td>\n",
       "    </tr>\n",
       "    <tr>\n",
       "      <th>4</th>\n",
       "      <td>5fd71e49d9dc4053b2f3a9adc752982e</td>\n",
       "      <td>FM</td>\n",
       "      <td>start</td>\n",
       "      <td>1d9e6d4a-e1c0-4020-b019-a14fb7c665f5</td>\n",
       "      <td>2016-11-08 23:39:07</td>\n",
       "      <td>5fd71e49d9dc4053b2f3a9adc752982e</td>\n",
       "      <td>NaN</td>\n",
       "      <td>end</td>\n",
       "      <td>2016-11-08 23:45:18</td>\n",
       "    </tr>\n",
       "    <tr>\n",
       "      <th>...</th>\n",
       "      <td>...</td>\n",
       "      <td>...</td>\n",
       "      <td>...</td>\n",
       "      <td>...</td>\n",
       "      <td>...</td>\n",
       "      <td>...</td>\n",
       "      <td>...</td>\n",
       "      <td>...</td>\n",
       "      <td>...</td>\n",
       "    </tr>\n",
       "    <tr>\n",
       "      <th>500577</th>\n",
       "      <td>7569b1ec9a934730bfe0891d88c47041</td>\n",
       "      <td>RW</td>\n",
       "      <td>start</td>\n",
       "      <td>a702cf5c-d837-4017-9b63-2ee836faa76d</td>\n",
       "      <td>2016-11-15 18:48:02</td>\n",
       "      <td>7569b1ec9a934730bfe0891d88c47041</td>\n",
       "      <td>NaN</td>\n",
       "      <td>end</td>\n",
       "      <td>2016-11-15 19:16:29</td>\n",
       "    </tr>\n",
       "    <tr>\n",
       "      <th>500578</th>\n",
       "      <td>465335083a1a469591d3c2c15b27ae3b</td>\n",
       "      <td>KP</td>\n",
       "      <td>start</td>\n",
       "      <td>1b0b5721-a0a0-4fb2-bc7e-a2543db3bd1b</td>\n",
       "      <td>2016-11-20 00:20:57</td>\n",
       "      <td>465335083a1a469591d3c2c15b27ae3b</td>\n",
       "      <td>NaN</td>\n",
       "      <td>end</td>\n",
       "      <td>2016-11-20 01:36:09</td>\n",
       "    </tr>\n",
       "    <tr>\n",
       "      <th>500579</th>\n",
       "      <td>95c1d0b75e17416cafcb4400c2c36eb9</td>\n",
       "      <td>BW</td>\n",
       "      <td>start</td>\n",
       "      <td>2ab87ad3-4542-4a8e-b9b9-40c609ffdad5</td>\n",
       "      <td>2016-11-06 05:38:29</td>\n",
       "      <td>95c1d0b75e17416cafcb4400c2c36eb9</td>\n",
       "      <td>NaN</td>\n",
       "      <td>end</td>\n",
       "      <td>2016-11-06 06:15:33</td>\n",
       "    </tr>\n",
       "    <tr>\n",
       "      <th>500580</th>\n",
       "      <td>2982df54c01f41a0b1c6f2915eb12d5a</td>\n",
       "      <td>TG</td>\n",
       "      <td>start</td>\n",
       "      <td>70620aea-1bff-4924-9d3a-06cfefb3ac1b</td>\n",
       "      <td>2016-11-16 23:20:36</td>\n",
       "      <td>2982df54c01f41a0b1c6f2915eb12d5a</td>\n",
       "      <td>NaN</td>\n",
       "      <td>end</td>\n",
       "      <td>2016-11-16 23:22:36</td>\n",
       "    </tr>\n",
       "    <tr>\n",
       "      <th>500581</th>\n",
       "      <td>a34f4ddb91b347c18dc7221e1884c0fa</td>\n",
       "      <td>GI</td>\n",
       "      <td>start</td>\n",
       "      <td>ef2e7503-a122-470a-b320-c939ebc3825a</td>\n",
       "      <td>2016-11-19 04:49:19</td>\n",
       "      <td>a34f4ddb91b347c18dc7221e1884c0fa</td>\n",
       "      <td>NaN</td>\n",
       "      <td>end</td>\n",
       "      <td>2016-11-19 04:54:00</td>\n",
       "    </tr>\n",
       "  </tbody>\n",
       "</table>\n",
       "<p>500582 rows × 9 columns</p>\n",
       "</div>"
      ],
      "text/plain": [
       "                             player_id_x country_x event_x  \\\n",
       "0       d6313e1fb7d247a6a034e2aadc30ab3f        PK   start   \n",
       "1       a477ecabc3cc455cb1c6d1dab77d8e5c        GH   start   \n",
       "2       1ec36a67785046b3bce1dc432fad9129        SK   start   \n",
       "3       9595af0063e94cb8a76cb6628c6b80eb        DE   start   \n",
       "4       5fd71e49d9dc4053b2f3a9adc752982e        FM   start   \n",
       "...                                  ...       ...     ...   \n",
       "500577  7569b1ec9a934730bfe0891d88c47041        RW   start   \n",
       "500578  465335083a1a469591d3c2c15b27ae3b        KP   start   \n",
       "500579  95c1d0b75e17416cafcb4400c2c36eb9        BW   start   \n",
       "500580  2982df54c01f41a0b1c6f2915eb12d5a        TG   start   \n",
       "500581  a34f4ddb91b347c18dc7221e1884c0fa        GI   start   \n",
       "\n",
       "                                  session_id                ts_x  \\\n",
       "0       674606b1-2270-4285-928f-eef4a6b90a60 2016-11-22 20:40:50   \n",
       "1       4c55263e-66b2-4814-b431-8ca4c1a9dcc8 2016-11-29 19:31:43   \n",
       "2       3346a60a-0989-4041-aacc-cf6ff44bd151 2016-11-16 05:36:16   \n",
       "3       06830030-d091-428b-87d6-53914d3d2a18 2016-11-07 01:18:09   \n",
       "4       1d9e6d4a-e1c0-4020-b019-a14fb7c665f5 2016-11-08 23:39:07   \n",
       "...                                      ...                 ...   \n",
       "500577  a702cf5c-d837-4017-9b63-2ee836faa76d 2016-11-15 18:48:02   \n",
       "500578  1b0b5721-a0a0-4fb2-bc7e-a2543db3bd1b 2016-11-20 00:20:57   \n",
       "500579  2ab87ad3-4542-4a8e-b9b9-40c609ffdad5 2016-11-06 05:38:29   \n",
       "500580  70620aea-1bff-4924-9d3a-06cfefb3ac1b 2016-11-16 23:20:36   \n",
       "500581  ef2e7503-a122-470a-b320-c939ebc3825a 2016-11-19 04:49:19   \n",
       "\n",
       "                             player_id_y country_y event_y                ts_y  \n",
       "0       d6313e1fb7d247a6a034e2aadc30ab3f       NaN     end 2016-11-22 22:29:39  \n",
       "1       a477ecabc3cc455cb1c6d1dab77d8e5c       NaN     end 2016-11-29 21:07:06  \n",
       "2       1ec36a67785046b3bce1dc432fad9129       NaN     end 2016-11-16 06:38:36  \n",
       "3       9595af0063e94cb8a76cb6628c6b80eb       NaN     end 2016-11-07 02:14:23  \n",
       "4       5fd71e49d9dc4053b2f3a9adc752982e       NaN     end 2016-11-08 23:45:18  \n",
       "...                                  ...       ...     ...                 ...  \n",
       "500577  7569b1ec9a934730bfe0891d88c47041       NaN     end 2016-11-15 19:16:29  \n",
       "500578  465335083a1a469591d3c2c15b27ae3b       NaN     end 2016-11-20 01:36:09  \n",
       "500579  95c1d0b75e17416cafcb4400c2c36eb9       NaN     end 2016-11-06 06:15:33  \n",
       "500580  2982df54c01f41a0b1c6f2915eb12d5a       NaN     end 2016-11-16 23:22:36  \n",
       "500581  a34f4ddb91b347c18dc7221e1884c0fa       NaN     end 2016-11-19 04:54:00  \n",
       "\n",
       "[500582 rows x 9 columns]"
      ]
     },
     "execution_count": 12,
     "metadata": {},
     "output_type": "execute_result"
    }
   ],
   "source": [
    "df[(df['event'] == 'start')].merge(df[(df['event'] == 'end')], how=\"inner\", on=\"session_id\")"
   ]
  },
  {
   "cell_type": "code",
   "execution_count": 13,
   "id": "d2cd3895",
   "metadata": {},
   "outputs": [
    {
     "name": "stdout",
     "output_type": "stream",
     "text": [
      "CPU times: user 905 ms, sys: 33.3 ms, total: 939 ms\n",
      "Wall time: 938 ms\n"
     ]
    },
    {
     "data": {
      "text/plain": [
       "500582"
      ]
     },
     "execution_count": 13,
     "metadata": {},
     "output_type": "execute_result"
    }
   ],
   "source": [
    "%%time\n",
    "\n",
    "len(df[(df['event'] == 'start')].merge(df[(df['event'] == 'end')], how=\"inner\", on=\"session_id\"))"
   ]
  },
  {
   "cell_type": "markdown",
   "id": "13f93999",
   "metadata": {},
   "source": [
    "**вариант 2 (быстрее):**"
   ]
  },
  {
   "cell_type": "code",
   "execution_count": 14,
   "id": "eabbaa92",
   "metadata": {},
   "outputs": [
    {
     "name": "stdout",
     "output_type": "stream",
     "text": [
      "CPU times: user 511 ms, sys: 16.2 ms, total: 527 ms\n",
      "Wall time: 526 ms\n"
     ]
    },
    {
     "data": {
      "text/plain": [
       "500582"
      ]
     },
     "execution_count": 14,
     "metadata": {},
     "output_type": "execute_result"
    }
   ],
   "source": [
    "%%time\n",
    "\n",
    "start = set(df[(df['event'] == 'start')]['session_id'])\n",
    "end = set(df[(df['event'] == 'end')]['session_id'])\n",
    "len(start & end)"
   ]
  },
  {
   "cell_type": "markdown",
   "id": "f19a510b",
   "metadata": {},
   "source": [
    "**дополнительное изучение**\n",
    "\n",
    "Уникальных сессий:"
   ]
  },
  {
   "cell_type": "code",
   "execution_count": 15,
   "id": "5d62cc9f",
   "metadata": {},
   "outputs": [
    {
     "data": {
      "text/plain": [
       "500587"
      ]
     },
     "execution_count": 15,
     "metadata": {},
     "output_type": "execute_result"
    }
   ],
   "source": [
    "len(start | end)"
   ]
  },
  {
   "cell_type": "markdown",
   "id": "117f0359",
   "metadata": {},
   "source": [
    "Кол-во стартовавших, но не завершившихся сессий в рамках наблюдений датасета:"
   ]
  },
  {
   "cell_type": "code",
   "execution_count": 16,
   "id": "c66a7f5e",
   "metadata": {},
   "outputs": [
    {
     "data": {
      "text/plain": [
       "2"
      ]
     },
     "execution_count": 16,
     "metadata": {},
     "output_type": "execute_result"
    }
   ],
   "source": [
    "len(start - end)"
   ]
  },
  {
   "cell_type": "markdown",
   "id": "75fe5e41",
   "metadata": {},
   "source": [
    "Кол-во завершившихся, но не стартовавших сессий в рамках наблюдений датасета:"
   ]
  },
  {
   "cell_type": "code",
   "execution_count": 17,
   "id": "7bc6ab1b",
   "metadata": {},
   "outputs": [
    {
     "data": {
      "text/plain": [
       "3"
      ]
     },
     "execution_count": 17,
     "metadata": {},
     "output_type": "execute_result"
    }
   ],
   "source": [
    "len(end - start)"
   ]
  },
  {
   "cell_type": "code",
   "execution_count": 18,
   "id": "a4a67fd7",
   "metadata": {},
   "outputs": [
    {
     "data": {
      "text/plain": [
       "{'2332d9cb-74ed-43f9-998a-9de87a40b389',\n",
       " '558ced54-16cf-428c-972a-f3778d0b482d',\n",
       " '5bbf3235-c92e-46dd-ad79-dec0b7089ee3',\n",
       " 'e9009bb1-eb4d-4d86-adbd-7be17a8485d0',\n",
       " 'f1853475-d52a-49b3-8a43-9097ffa16b7b'}"
      ]
     },
     "execution_count": 18,
     "metadata": {},
     "output_type": "execute_result"
    }
   ],
   "source": [
    "# эти события неполные, их можно и удалить, но я пока не буду \n",
    "(start - end) | (end - start)"
   ]
  },
  {
   "cell_type": "code",
   "execution_count": 19,
   "id": "60669874",
   "metadata": {},
   "outputs": [
    {
     "data": {
      "text/plain": [
       "end      500585\n",
       "start    500584\n",
       "Name: event, dtype: int64"
      ]
     },
     "execution_count": 19,
     "metadata": {},
     "output_type": "execute_result"
    }
   ],
   "source": [
    "df['event'].value_counts()"
   ]
  },
  {
   "cell_type": "markdown",
   "id": "491ae884",
   "metadata": {},
   "source": [
    "### 2) Сколько сеансов завершается в каждой стране? Выведите 10 лучших результатов, отсортированных по количеству (DESC) и стране (ASC)."
   ]
  },
  {
   "cell_type": "markdown",
   "id": "646d1209",
   "metadata": {},
   "source": [
    "Учитывая, что значения country пропущены вовсех event==end, будем считать, что страна в которой сессия началась, там же заканчивается."
   ]
  },
  {
   "cell_type": "code",
   "execution_count": 20,
   "id": "aa104ca6",
   "metadata": {},
   "outputs": [
    {
     "name": "stdout",
     "output_type": "stream",
     "text": [
      "CPU times: user 1.28 s, sys: 59.6 ms, total: 1.34 s\n",
      "Wall time: 1.34 s\n"
     ]
    },
    {
     "data": {
      "text/html": [
       "<div>\n",
       "<style scoped>\n",
       "    .dataframe tbody tr th:only-of-type {\n",
       "        vertical-align: middle;\n",
       "    }\n",
       "\n",
       "    .dataframe tbody tr th {\n",
       "        vertical-align: top;\n",
       "    }\n",
       "\n",
       "    .dataframe thead th {\n",
       "        text-align: right;\n",
       "    }\n",
       "</style>\n",
       "<table border=\"1\" class=\"dataframe\">\n",
       "  <thead>\n",
       "    <tr style=\"text-align: right;\">\n",
       "      <th></th>\n",
       "      <th>count</th>\n",
       "    </tr>\n",
       "    <tr>\n",
       "      <th>country_y</th>\n",
       "      <th></th>\n",
       "    </tr>\n",
       "  </thead>\n",
       "  <tbody>\n",
       "    <tr>\n",
       "      <th>IT</th>\n",
       "      <td>2839</td>\n",
       "    </tr>\n",
       "    <tr>\n",
       "      <th>SH</th>\n",
       "      <td>2672</td>\n",
       "    </tr>\n",
       "    <tr>\n",
       "      <th>AZ</th>\n",
       "      <td>2670</td>\n",
       "    </tr>\n",
       "    <tr>\n",
       "      <th>AT</th>\n",
       "      <td>2655</td>\n",
       "    </tr>\n",
       "    <tr>\n",
       "      <th>WF</th>\n",
       "      <td>2616</td>\n",
       "    </tr>\n",
       "    <tr>\n",
       "      <th>VA</th>\n",
       "      <td>2602</td>\n",
       "    </tr>\n",
       "    <tr>\n",
       "      <th>HU</th>\n",
       "      <td>2584</td>\n",
       "    </tr>\n",
       "    <tr>\n",
       "      <th>IL</th>\n",
       "      <td>2563</td>\n",
       "    </tr>\n",
       "    <tr>\n",
       "      <th>RO</th>\n",
       "      <td>2550</td>\n",
       "    </tr>\n",
       "    <tr>\n",
       "      <th>KR</th>\n",
       "      <td>2535</td>\n",
       "    </tr>\n",
       "  </tbody>\n",
       "</table>\n",
       "</div>"
      ],
      "text/plain": [
       "           count\n",
       "country_y       \n",
       "IT          2839\n",
       "SH          2672\n",
       "AZ          2670\n",
       "AT          2655\n",
       "WF          2616\n",
       "VA          2602\n",
       "HU          2584\n",
       "IL          2563\n",
       "RO          2550\n",
       "KR          2535"
      ]
     },
     "execution_count": 20,
     "metadata": {},
     "output_type": "execute_result"
    }
   ],
   "source": [
    "%%time\n",
    "# можно было бы сделать how=\"right\", но тогда будут лишние Nan, которые всеравно не получится заполнить\n",
    "countries = df[(df['event'] == 'start')].merge(df[(df['event'] == 'end')], how=\"inner\", on=\"session_id\")\n",
    "countries[\"country_y\"].fillna(countries[\"country_x\"], inplace=True)\n",
    "countries = countries.pivot_table(index='country_y', values='ts_y', aggfunc=\"count\").\\\n",
    "                sort_values(['ts_y', 'country_y'], ascending=[False, True]).rename(columns={'ts_y':'count'}).head(10)\n",
    "countries"
   ]
  },
  {
   "cell_type": "markdown",
   "id": "dc823c5e",
   "metadata": {},
   "source": [
    "### 3) Сколько сессий завершает каждый игрок? Выведите 10 лучших результатов, отсортированных по count(DESC) и player_id(ASC)."
   ]
  },
  {
   "cell_type": "code",
   "execution_count": 21,
   "id": "3882bb42",
   "metadata": {},
   "outputs": [
    {
     "name": "stdout",
     "output_type": "stream",
     "text": [
      "CPU times: user 350 ms, sys: 12.5 ms, total: 362 ms\n",
      "Wall time: 361 ms\n"
     ]
    },
    {
     "data": {
      "text/html": [
       "<div>\n",
       "<style scoped>\n",
       "    .dataframe tbody tr th:only-of-type {\n",
       "        vertical-align: middle;\n",
       "    }\n",
       "\n",
       "    .dataframe tbody tr th {\n",
       "        vertical-align: top;\n",
       "    }\n",
       "\n",
       "    .dataframe thead th {\n",
       "        text-align: right;\n",
       "    }\n",
       "</style>\n",
       "<table border=\"1\" class=\"dataframe\">\n",
       "  <thead>\n",
       "    <tr style=\"text-align: right;\">\n",
       "      <th></th>\n",
       "      <th>session_id</th>\n",
       "    </tr>\n",
       "    <tr>\n",
       "      <th>player_id</th>\n",
       "      <th></th>\n",
       "    </tr>\n",
       "  </thead>\n",
       "  <tbody>\n",
       "    <tr>\n",
       "      <th>0052e4cfaf494af29d567fcf93057029</th>\n",
       "      <td>50</td>\n",
       "    </tr>\n",
       "    <tr>\n",
       "      <th>008c31d6d87d4a72ade8900d4c031f59</th>\n",
       "      <td>50</td>\n",
       "    </tr>\n",
       "    <tr>\n",
       "      <th>019f6864a44e4cd1a271db0fc08c7555</th>\n",
       "      <td>50</td>\n",
       "    </tr>\n",
       "    <tr>\n",
       "      <th>01d1f31c3c864538a6a5f3cb238d0072</th>\n",
       "      <td>50</td>\n",
       "    </tr>\n",
       "    <tr>\n",
       "      <th>0259292bb77e4aaba6782372085990be</th>\n",
       "      <td>50</td>\n",
       "    </tr>\n",
       "    <tr>\n",
       "      <th>04318f09e6e7434bb48226f4a8745c21</th>\n",
       "      <td>50</td>\n",
       "    </tr>\n",
       "    <tr>\n",
       "      <th>060243602575481db3643bdaacc1146e</th>\n",
       "      <td>50</td>\n",
       "    </tr>\n",
       "    <tr>\n",
       "      <th>067b20022f2040b0a0b94efb221e1a6e</th>\n",
       "      <td>50</td>\n",
       "    </tr>\n",
       "    <tr>\n",
       "      <th>072d69b007434968966b4c9ddc4e987c</th>\n",
       "      <td>50</td>\n",
       "    </tr>\n",
       "    <tr>\n",
       "      <th>08037331842341b2bbfd51d2b12f9049</th>\n",
       "      <td>50</td>\n",
       "    </tr>\n",
       "  </tbody>\n",
       "</table>\n",
       "</div>"
      ],
      "text/plain": [
       "                                  session_id\n",
       "player_id                                   \n",
       "0052e4cfaf494af29d567fcf93057029          50\n",
       "008c31d6d87d4a72ade8900d4c031f59          50\n",
       "019f6864a44e4cd1a271db0fc08c7555          50\n",
       "01d1f31c3c864538a6a5f3cb238d0072          50\n",
       "0259292bb77e4aaba6782372085990be          50\n",
       "04318f09e6e7434bb48226f4a8745c21          50\n",
       "060243602575481db3643bdaacc1146e          50\n",
       "067b20022f2040b0a0b94efb221e1a6e          50\n",
       "072d69b007434968966b4c9ddc4e987c          50\n",
       "08037331842341b2bbfd51d2b12f9049          50"
      ]
     },
     "execution_count": 21,
     "metadata": {},
     "output_type": "execute_result"
    }
   ],
   "source": [
    "%%time\n",
    "\n",
    "df[df['event'] == 'end'].pivot_table(index='player_id', values='session_id', aggfunc=\"count\").\\\n",
    "                            sort_values(['session_id', 'player_id'], ascending=[False, True]).head(10)"
   ]
  },
  {
   "cell_type": "code",
   "execution_count": 22,
   "id": "9dbe89c0",
   "metadata": {},
   "outputs": [
    {
     "data": {
      "text/plain": [
       "50"
      ]
     },
     "execution_count": 22,
     "metadata": {},
     "output_type": "execute_result"
    }
   ],
   "source": [
    "# для проверки\n",
    "len(df[(df['player_id']=='0052e4cfaf494af29d567fcf93057029') & (df['event']=='end')])"
   ]
  },
  {
   "cell_type": "markdown",
   "id": "07806246",
   "metadata": {},
   "source": [
    "### 4) В какой стране в 2016 году было начато наибольшее количество сеансов?"
   ]
  },
  {
   "cell_type": "markdown",
   "id": "de024c5d",
   "metadata": {},
   "source": [
    "**вариант 1:**"
   ]
  },
  {
   "cell_type": "code",
   "execution_count": 23,
   "id": "bf3299dd",
   "metadata": {},
   "outputs": [
    {
     "name": "stdout",
     "output_type": "stream",
     "text": [
      "CPU times: user 428 ms, sys: 12.7 ms, total: 441 ms\n",
      "Wall time: 439 ms\n"
     ]
    },
    {
     "data": {
      "text/plain": [
       "'IT'"
      ]
     },
     "execution_count": 23,
     "metadata": {},
     "output_type": "execute_result"
    }
   ],
   "source": [
    "%%time\n",
    "\n",
    "df[(df['ts'].dt.year == 2016) & (df['event'] == 'start')].groupby('country').agg('count').idxmax()['event']"
   ]
  },
  {
   "cell_type": "markdown",
   "id": "bdb2b9e5",
   "metadata": {},
   "source": [
    "**вариант 2 (быстрее):**"
   ]
  },
  {
   "cell_type": "code",
   "execution_count": 24,
   "id": "e86a8104",
   "metadata": {},
   "outputs": [
    {
     "name": "stdout",
     "output_type": "stream",
     "text": [
      "CPU times: user 219 ms, sys: 2.8 ms, total: 221 ms\n",
      "Wall time: 220 ms\n"
     ]
    },
    {
     "data": {
      "text/plain": [
       "'IT'"
      ]
     },
     "execution_count": 24,
     "metadata": {},
     "output_type": "execute_result"
    }
   ],
   "source": [
    "%%time\n",
    "\n",
    "df[(df['ts'].dt.year == 2016) & (df['event'] == 'start')]['country'].value_counts().idxmax()"
   ]
  },
  {
   "cell_type": "markdown",
   "id": "7a94c10f",
   "metadata": {},
   "source": [
    "**Ответ: 'IT' - Италия**"
   ]
  },
  {
   "cell_type": "code",
   "execution_count": 25,
   "id": "b54e9033",
   "metadata": {},
   "outputs": [
    {
     "name": "stdout",
     "output_type": "stream",
     "text": [
      "CPU times: user 323 ms, sys: 3.6 ms, total: 326 ms\n",
      "Wall time: 325 ms\n"
     ]
    },
    {
     "data": {
      "text/html": [
       "<div>\n",
       "<style scoped>\n",
       "    .dataframe tbody tr th:only-of-type {\n",
       "        vertical-align: middle;\n",
       "    }\n",
       "\n",
       "    .dataframe tbody tr th {\n",
       "        vertical-align: top;\n",
       "    }\n",
       "\n",
       "    .dataframe thead th {\n",
       "        text-align: right;\n",
       "    }\n",
       "</style>\n",
       "<table border=\"1\" class=\"dataframe\">\n",
       "  <thead>\n",
       "    <tr style=\"text-align: right;\">\n",
       "      <th></th>\n",
       "      <th>session_id</th>\n",
       "    </tr>\n",
       "    <tr>\n",
       "      <th>country</th>\n",
       "      <th></th>\n",
       "    </tr>\n",
       "  </thead>\n",
       "  <tbody>\n",
       "    <tr>\n",
       "      <th>IT</th>\n",
       "      <td>2839</td>\n",
       "    </tr>\n",
       "    <tr>\n",
       "      <th>SH</th>\n",
       "      <td>2672</td>\n",
       "    </tr>\n",
       "    <tr>\n",
       "      <th>AZ</th>\n",
       "      <td>2670</td>\n",
       "    </tr>\n",
       "    <tr>\n",
       "      <th>AT</th>\n",
       "      <td>2655</td>\n",
       "    </tr>\n",
       "    <tr>\n",
       "      <th>WF</th>\n",
       "      <td>2616</td>\n",
       "    </tr>\n",
       "  </tbody>\n",
       "</table>\n",
       "</div>"
      ],
      "text/plain": [
       "         session_id\n",
       "country            \n",
       "IT             2839\n",
       "SH             2672\n",
       "AZ             2670\n",
       "AT             2655\n",
       "WF             2616"
      ]
     },
     "execution_count": 25,
     "metadata": {},
     "output_type": "execute_result"
    }
   ],
   "source": [
    "%%time\n",
    "# проверка\n",
    "\n",
    "df[(df['ts'].dt.year == 2016) & (df['event'] == 'start')].pivot_table(index='country', values='session_id', aggfunc=\"count\").\\\n",
    "                            sort_values(['session_id'], ascending=[False]).head(5)"
   ]
  },
  {
   "cell_type": "markdown",
   "id": "6779782e",
   "metadata": {},
   "source": [
    "### 5) График завершенных сеансов  по странам. Гистограмма 10 лучших результатов, отсортированных по количеству (DESC) и стране (ASC)."
   ]
  },
  {
   "cell_type": "code",
   "execution_count": 26,
   "id": "c7c8d5eb",
   "metadata": {},
   "outputs": [
    {
     "data": {
      "text/plain": [
       "array([[<AxesSubplot:title={'center':'count'}>]], dtype=object)"
      ]
     },
     "execution_count": 26,
     "metadata": {},
     "output_type": "execute_result"
    },
    {
     "data": {
      "image/png": "[encoded data removed]",
      "text/plain": [
       "<Figure size 432x288 with 1 Axes>"
      ]
     },
     "metadata": {
      "needs_background": "light"
     },
     "output_type": "display_data"
    }
   ],
   "source": [
    "# countries - срез из второго задания\n",
    "countries.hist()"
   ]
  },
  {
   "cell_type": "markdown",
   "id": "502c5e47",
   "metadata": {},
   "source": [
    "Обычно по таким условиям рисуют столбчатую диаграмму:"
   ]
  },
  {
   "cell_type": "code",
   "execution_count": 27,
   "id": "5f9e5def",
   "metadata": {},
   "outputs": [
    {
     "data": {
      "text/html": [
       "<div>\n",
       "<style scoped>\n",
       "    .dataframe tbody tr th:only-of-type {\n",
       "        vertical-align: middle;\n",
       "    }\n",
       "\n",
       "    .dataframe tbody tr th {\n",
       "        vertical-align: top;\n",
       "    }\n",
       "\n",
       "    .dataframe thead th {\n",
       "        text-align: right;\n",
       "    }\n",
       "</style>\n",
       "<table border=\"1\" class=\"dataframe\">\n",
       "  <thead>\n",
       "    <tr style=\"text-align: right;\">\n",
       "      <th></th>\n",
       "      <th>count</th>\n",
       "    </tr>\n",
       "    <tr>\n",
       "      <th>country_y</th>\n",
       "      <th></th>\n",
       "    </tr>\n",
       "  </thead>\n",
       "  <tbody>\n",
       "    <tr>\n",
       "      <th>IT</th>\n",
       "      <td>2839</td>\n",
       "    </tr>\n",
       "    <tr>\n",
       "      <th>SH</th>\n",
       "      <td>2672</td>\n",
       "    </tr>\n",
       "    <tr>\n",
       "      <th>AZ</th>\n",
       "      <td>2670</td>\n",
       "    </tr>\n",
       "    <tr>\n",
       "      <th>AT</th>\n",
       "      <td>2655</td>\n",
       "    </tr>\n",
       "    <tr>\n",
       "      <th>WF</th>\n",
       "      <td>2616</td>\n",
       "    </tr>\n",
       "    <tr>\n",
       "      <th>VA</th>\n",
       "      <td>2602</td>\n",
       "    </tr>\n",
       "    <tr>\n",
       "      <th>HU</th>\n",
       "      <td>2584</td>\n",
       "    </tr>\n",
       "    <tr>\n",
       "      <th>IL</th>\n",
       "      <td>2563</td>\n",
       "    </tr>\n",
       "    <tr>\n",
       "      <th>RO</th>\n",
       "      <td>2550</td>\n",
       "    </tr>\n",
       "    <tr>\n",
       "      <th>KR</th>\n",
       "      <td>2535</td>\n",
       "    </tr>\n",
       "  </tbody>\n",
       "</table>\n",
       "</div>"
      ],
      "text/plain": [
       "           count\n",
       "country_y       \n",
       "IT          2839\n",
       "SH          2672\n",
       "AZ          2670\n",
       "AT          2655\n",
       "WF          2616\n",
       "VA          2602\n",
       "HU          2584\n",
       "IL          2563\n",
       "RO          2550\n",
       "KR          2535"
      ]
     },
     "execution_count": 27,
     "metadata": {},
     "output_type": "execute_result"
    },
    {
     "data": {
      "image/png": "[encoded data removed]",
      "text/plain": [
       "<Figure size 432x288 with 1 Axes>"
      ]
     },
     "metadata": {
      "needs_background": "light"
     },
     "output_type": "display_data"
    }
   ],
   "source": [
    "countries.plot(kind='bar')\n",
    "countries"
   ]
  }
 ],
 "metadata": {
  "kernelspec": {
   "display_name": "Python 3 (ipykernel)",
   "language": "python",
   "name": "python3"
  },
  "language_info": {
   "codemirror_mode": {
    "name": "ipython",
    "version": 3
   },
   "file_extension": ".py",
   "mimetype": "text/x-python",
   "name": "python",
   "nbconvert_exporter": "python",
   "pygments_lexer": "ipython3",
   "version": "3.9.10"
  }
 },
 "nbformat": 4,
 "nbformat_minor": 5
}
